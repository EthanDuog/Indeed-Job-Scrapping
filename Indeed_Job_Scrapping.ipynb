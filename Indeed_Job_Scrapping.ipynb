{
  "nbformat": 4,
  "nbformat_minor": 0,
  "metadata": {
    "colab": {
      "provenance": [],
      "authorship_tag": "ABX9TyOwG+L17pOUKCTEp6yCKh6r",
      "include_colab_link": true
    },
    "kernelspec": {
      "name": "python3",
      "display_name": "Python 3"
    },
    "language_info": {
      "name": "python"
    },
    "gpuClass": "standard"
  },
  "cells": [
    {
      "cell_type": "markdown",
      "metadata": {
        "id": "view-in-github",
        "colab_type": "text"
      },
      "source": [
        "<a href=\"https://colab.research.google.com/github/EthanDuog/Indeed-Job-Scrapping/blob/main/Indeed_Job_Scrapping.ipynb\" target=\"_parent\"><img src=\"https://colab.research.google.com/assets/colab-badge.svg\" alt=\"Open In Colab\"/></a>"
      ]
    },
    {
      "cell_type": "markdown",
      "source": [
        "*Created: 29/01/2023 by: Ethan Duong*\n",
        "\n",
        "# **Indeed Job Web Scrapping**\n",
        "Using python to scrap data analyst job on Indeed and turn them into csv file. "
      ],
      "metadata": {
        "id": "vf0jrM5v9A77"
      }
    },
    {
      "cell_type": "markdown",
      "source": [
        "Using Python allow us to automate many of our tasks so we can save time and effort for other important things. This code will generate a web scrapper that allows user scrap indeed website and retrieve desired data from the web in csv format. This would help job seekers to gather abd filter a large number of current jobs without putting too much effort.  "
      ],
      "metadata": {
        "id": "nO7oSZOY-FHV"
      }
    },
    {
      "cell_type": "markdown",
      "source": [
        "**Let's start build out job scrapper !!!**"
      ],
      "metadata": {
        "id": "RTvv368F_P3B"
      }
    },
    {
      "cell_type": "markdown",
      "source": [
        "For this web scrapper, we will need to user install and import these libraries below:"
      ],
      "metadata": {
        "id": "nNpSyStV_GBo"
      }
    },
    {
      "cell_type": "code",
      "source": [
        "! pip install requests"
      ],
      "metadata": {
        "id": "cMNsfSClf7Rj"
      },
      "execution_count": null,
      "outputs": []
    },
    {
      "cell_type": "code",
      "execution_count": 3,
      "metadata": {
        "id": "B73DRAicMyM5"
      },
      "outputs": [],
      "source": [
        "import requests\n",
        "from bs4 import BeautifulSoup\n",
        "import pandas as pd "
      ]
    },
    {
      "cell_type": "markdown",
      "source": [
        "Next, we will input:\n",
        "\n",
        "\n",
        "*   Headers: This page shows you what your web browser is sending in the \"User-Agent\" header for your HTTP requests. You can go too google and type 'my user agent' to find this information. \n",
        "*   Current link: This is the link of indeed website, where you already input the criteria such as 'data analyst', location, and salary (depend on your job criteria.\n",
        "\n"
      ],
      "metadata": {
        "id": "iDWv4ZEG_6bw"
      }
    },
    {
      "cell_type": "code",
      "source": [
        "HEADERS = {'User-Agent' : 'Mozilla/5.0 (Windows NT 10.0; Win64; x64) AppleWebKit/537.36 (KHTML, like Gecko) Chrome/109.0.0.0 Safari/537.36'}\n",
        "current_url = 'https://ca.indeed.com/jobs?q=data+intern&l=Toronto%2C+ON&rbl=Toronto%2C+ON&jlid=aaab304de0fc22ae&start=0&pp=gQAtAAABhdBBBPsAAAAB9qv3FwAVAQEJBxcim3ux9UpVWCNKn47okCiFAAA&vjk=952f5957f32d9ca3'"
      ],
      "metadata": {
        "id": "x-I-P0gusS4x"
      },
      "execution_count": 4,
      "outputs": []
    },
    {
      "cell_type": "markdown",
      "source": [
        "\n",
        "For this web scrapper, we will create 2 functions:\n",
        "\n",
        "\n",
        "*   Extract: This function will request and extract the content from web base on our header and current URL \n",
        "*   Transform: This function will allow us to extract the exact information we need and tranform them into a list (we will tranform to csv later)\n",
        "\n"
      ],
      "metadata": {
        "id": "o8SuGACfA-Hc"
      }
    },
    {
      "cell_type": "code",
      "source": [
        "def extract(page):\n",
        "  r = requests.get(current_url, HEADERS) #request the web content base on url and headers\n",
        "  soup = BeautifulSoup(r.content, 'html.parser') # using soup to render the content to html.parser \n",
        "  return soup"
      ],
      "metadata": {
        "colab": {
          "base_uri": "https://localhost:8080/",
          "height": 49
        },
        "id": "-S3cVLPLNbpU",
        "outputId": "4b10da85-6fc3-4af3-b6e6-df89f5aeaf82"
      },
      "execution_count": 10,
      "outputs": [
        {
          "output_type": "execute_result",
          "data": {
            "text/plain": [
              "Empty DataFrame\n",
              "Columns: []\n",
              "Index: []"
            ],
            "text/html": [
              "\n",
              "  <div id=\"df-7f01cce5-3272-46d0-9da8-21f0bcaacb9a\">\n",
              "    <div class=\"colab-df-container\">\n",
              "      <div>\n",
              "<style scoped>\n",
              "    .dataframe tbody tr th:only-of-type {\n",
              "        vertical-align: middle;\n",
              "    }\n",
              "\n",
              "    .dataframe tbody tr th {\n",
              "        vertical-align: top;\n",
              "    }\n",
              "\n",
              "    .dataframe thead th {\n",
              "        text-align: right;\n",
              "    }\n",
              "</style>\n",
              "<table border=\"1\" class=\"dataframe\">\n",
              "  <thead>\n",
              "    <tr style=\"text-align: right;\">\n",
              "      <th></th>\n",
              "    </tr>\n",
              "  </thead>\n",
              "  <tbody>\n",
              "  </tbody>\n",
              "</table>\n",
              "</div>\n",
              "      <button class=\"colab-df-convert\" onclick=\"convertToInteractive('df-7f01cce5-3272-46d0-9da8-21f0bcaacb9a')\"\n",
              "              title=\"Convert this dataframe to an interactive table.\"\n",
              "              style=\"display:none;\">\n",
              "        \n",
              "  <svg xmlns=\"http://www.w3.org/2000/svg\" height=\"24px\"viewBox=\"0 0 24 24\"\n",
              "       width=\"24px\">\n",
              "    <path d=\"M0 0h24v24H0V0z\" fill=\"none\"/>\n",
              "    <path d=\"M18.56 5.44l.94 2.06.94-2.06 2.06-.94-2.06-.94-.94-2.06-.94 2.06-2.06.94zm-11 1L8.5 8.5l.94-2.06 2.06-.94-2.06-.94L8.5 2.5l-.94 2.06-2.06.94zm10 10l.94 2.06.94-2.06 2.06-.94-2.06-.94-.94-2.06-.94 2.06-2.06.94z\"/><path d=\"M17.41 7.96l-1.37-1.37c-.4-.4-.92-.59-1.43-.59-.52 0-1.04.2-1.43.59L10.3 9.45l-7.72 7.72c-.78.78-.78 2.05 0 2.83L4 21.41c.39.39.9.59 1.41.59.51 0 1.02-.2 1.41-.59l7.78-7.78 2.81-2.81c.8-.78.8-2.07 0-2.86zM5.41 20L4 18.59l7.72-7.72 1.47 1.35L5.41 20z\"/>\n",
              "  </svg>\n",
              "      </button>\n",
              "      \n",
              "  <style>\n",
              "    .colab-df-container {\n",
              "      display:flex;\n",
              "      flex-wrap:wrap;\n",
              "      gap: 12px;\n",
              "    }\n",
              "\n",
              "    .colab-df-convert {\n",
              "      background-color: #E8F0FE;\n",
              "      border: none;\n",
              "      border-radius: 50%;\n",
              "      cursor: pointer;\n",
              "      display: none;\n",
              "      fill: #1967D2;\n",
              "      height: 32px;\n",
              "      padding: 0 0 0 0;\n",
              "      width: 32px;\n",
              "    }\n",
              "\n",
              "    .colab-df-convert:hover {\n",
              "      background-color: #E2EBFA;\n",
              "      box-shadow: 0px 1px 2px rgba(60, 64, 67, 0.3), 0px 1px 3px 1px rgba(60, 64, 67, 0.15);\n",
              "      fill: #174EA6;\n",
              "    }\n",
              "\n",
              "    [theme=dark] .colab-df-convert {\n",
              "      background-color: #3B4455;\n",
              "      fill: #D2E3FC;\n",
              "    }\n",
              "\n",
              "    [theme=dark] .colab-df-convert:hover {\n",
              "      background-color: #434B5C;\n",
              "      box-shadow: 0px 1px 3px 1px rgba(0, 0, 0, 0.15);\n",
              "      filter: drop-shadow(0px 1px 2px rgba(0, 0, 0, 0.3));\n",
              "      fill: #FFFFFF;\n",
              "    }\n",
              "  </style>\n",
              "\n",
              "      <script>\n",
              "        const buttonEl =\n",
              "          document.querySelector('#df-7f01cce5-3272-46d0-9da8-21f0bcaacb9a button.colab-df-convert');\n",
              "        buttonEl.style.display =\n",
              "          google.colab.kernel.accessAllowed ? 'block' : 'none';\n",
              "\n",
              "        async function convertToInteractive(key) {\n",
              "          const element = document.querySelector('#df-7f01cce5-3272-46d0-9da8-21f0bcaacb9a');\n",
              "          const dataTable =\n",
              "            await google.colab.kernel.invokeFunction('convertToInteractive',\n",
              "                                                     [key], {});\n",
              "          if (!dataTable) return;\n",
              "\n",
              "          const docLinkHtml = 'Like what you see? Visit the ' +\n",
              "            '<a target=\"_blank\" href=https://colab.research.google.com/notebooks/data_table.ipynb>data table notebook</a>'\n",
              "            + ' to learn more about interactive tables.';\n",
              "          element.innerHTML = '';\n",
              "          dataTable['output_type'] = 'display_data';\n",
              "          await google.colab.output.renderOutput(dataTable, element);\n",
              "          const docLink = document.createElement('div');\n",
              "          docLink.innerHTML = docLinkHtml;\n",
              "          element.appendChild(docLink);\n",
              "        }\n",
              "      </script>\n",
              "    </div>\n",
              "  </div>\n",
              "  "
            ]
          },
          "metadata": {},
          "execution_count": 10
        }
      ]
    },
    {
      "cell_type": "markdown",
      "source": [],
      "metadata": {
        "id": "GmSOqqapBAYE"
      }
    },
    {
      "cell_type": "code",
      "source": [
        "def transform(soup):\n",
        "  # first we will need to find all the div that contains all of the jobs in 1 page (you can use inspect to have a better to navigate the class value) \n",
        "  divs = soup.find_all('div', class_='job_seen_beacon')\n",
        "\n",
        "  #loop through each job:\n",
        "  for job in divs:\n",
        "    # get the title\n",
        "    title = job.find('a',class_='jobTitle')\n",
        "    # get the company name \n",
        "    company = job.find('span',class_='company').text.strip()\n",
        "    # using try and except to get the salary because not all job postings contain salary\n",
        "    try:\n",
        "      salary = job.find('span', class_='salaryText').text.strip()\n",
        "    except:\n",
        "      salary=''\n",
        "    # get the job summary \n",
        "    summary = job.find('div', {'class': 'summary'}).text.strip().replace()\n",
        "\n",
        "    #create a dictionary to reatain all the information above\n",
        "    job  = {\n",
        "        'title': title,\n",
        "        'company': company,\n",
        "        'salary': salary, \n",
        "        'summary': summary\n",
        "    }\n",
        "\n",
        "    # append into joblist, we will have a list of job, and each job is a dictionary with the combination of titile, company, salary, and job summary.\n",
        "    joblist.append(job)\n",
        "  return  "
      ],
      "metadata": {
        "id": "h1O6O4Bc3O-F"
      },
      "execution_count": 13,
      "outputs": []
    },
    {
      "cell_type": "code",
      "source": [
        "joblist = []"
      ],
      "metadata": {
        "id": "zvnCpIgh7_rD"
      },
      "execution_count": null,
      "outputs": []
    },
    {
      "cell_type": "markdown",
      "source": [
        "We will create a for loop to loop through all the page of our result and activate the funtion though some simple lines:"
      ],
      "metadata": {
        "id": "NInQRD1eBGMp"
      }
    },
    {
      "cell_type": "code",
      "source": [
        "for i in range(0,100,10): \n",
        "  c = extract(0)\n",
        "  transform(c)"
      ],
      "metadata": {
        "id": "UACM3piP7_kY"
      },
      "execution_count": null,
      "outputs": []
    },
    {
      "cell_type": "markdown",
      "source": [
        "With these two line, you can easily turn the output into csv file "
      ],
      "metadata": {
        "id": "bsKZaYvZBHYp"
      }
    },
    {
      "cell_type": "code",
      "source": [
        "df = pd.DataFrame(joblist)\n",
        "df.to_csv('jobs.csv')"
      ],
      "metadata": {
        "id": "0Ru7ctAl7_Kv"
      },
      "execution_count": null,
      "outputs": []
    }
  ]
}